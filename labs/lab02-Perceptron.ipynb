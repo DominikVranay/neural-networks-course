{
 "cells": [
  {
   "cell_type": "markdown",
   "metadata": {},
   "source": [
    "# Cvičenie 2: Perceptrón\n",
    "\n",
    "Na dnešnom cvičení naimplementujeme najjednoduchšiu neurónovú sieť, teda perceptrón. Na úvod si zopakujeme, čo je to perceptrón, z akých častí sa skladá, aké má parametre a ako funguje - ako sa vypočítava vstup a ako sa perceptrón učí z dát. Pri tom nám pomôže štruktúra perceptrónu:\n",
    "\n",
    "![Štruktúra perceptrónu](sources/lab02/2.1-perceptron-structure.jpg)"
   ]
  },
  {
   "cell_type": "markdown",
   "metadata": {},
   "source": [
    "## 1. Prvý pohľad na kód\n",
    "\n",
    "Stiahnite si [kostru riešenia](sources/lab02/lab2.zip), ktorá obsahuje čiastočnú implementáciu perceptrónu a dataset, ktorý použijeme na trénovanie. Je ním dataset [Iris](https://archive.ics.uci.edu/ml/datasets/iris), ktorý sa používa veľmi často pri ukážkach metód strojového učenia.\n",
    "\n",
    "Kód (`lab2-perceptron.py`) obsahuje definíciu triedy `Perceptron` aj s deklaráciami členských metód. Skript navyše obsahuje funkcie `plot_decision_regions` (vizualizuje rozhodovanie perceptrónu) a `plot_dataset` (vizualizuje dataset).\n",
    "\n",
    "Po spustení skriptu by sa vám mal zobraziť graf s datasetom. Z grafu zistite, či je možné natrénovať perceptrón na klasifikáciu dát z datasetu Iris."
   ]
  },
    {
      "cell_type": "code",
      "source": [
        "import pandas as pd\n",
        "import numpy as np\n",
        "import matplotlib.pyplot as plt\n",
        "from matplotlib.colors import ListedColormap\n",
        "\n",
        "def plot_decision_regions(X, y, classifier, resolution=0.02):\n",
        "    markers = ('s', 'x', 'o', '^', 'v')\n",
        "    colors = ('red', 'blue', 'lightgreen', 'gray', 'cyan')\n",
        "    cmap = ListedColormap(colors[:len(np.unique(y))])\n",
        "\n",
        "    x1_min, x1_max = X[:, 0].min() - 1, X[:, 0].max() + 1\n",
        "    x2_min, x2_max = X[:, 1].min() - 1, X[:, 1].max() + 1\n",
        "    xx1, xx2 = np.meshgrid(np.arange(x1_min, x1_max, resolution),\n",
        "                           np.arange(x2_min, x2_max, resolution))\n",
        "    Z = classifier.predict(np.array([xx1.ravel(), xx2.ravel()]).T)\n",
        "    Z = Z.reshape(xx1.shape)\n",
        "    plt.contourf(xx1, xx2, Z, alpha=0.4, cmap=cmap)\n",
        "    plt.xlim(xx1.min(), xx1.max())\n",
        "    plt.ylim(xx2.min(), xx2.max())\n",
        "\n",
        "    for idx, cl in enumerate(np.unique(y)):\n",
        "        plt.scatter(x=X[y == cl, 0], y=X[y == cl, 1],\n",
        "                    alpha=0.8, c=cmap(idx),\n",
        "                    marker=markers[idx], label=cl)\n",
        "\n",
        "    plt.xlabel('sepal length [cm]')\n",
        "    plt.ylabel('petal length [cm]')\n",
        "    plt.legend(loc='upper left')\n",
        "    plt.show()\n",
        "\n",
        "\n",
        "def plot_dataset(X):\n",
        "    plt.scatter(X[:50, 0], X[:50, 1], color='red', marker='o', label='setosa')\n",
        "    plt.scatter(X[50:100, 0], X[50:100, 1], color='blue', marker='x', label='versicolor')\n",
        "    plt.xlabel('petal length')\n",
        "    plt.ylabel('sepal length')\n",
        "    plt.legend(loc='upper left')\n",
        "    plt.show()\n",
        "\n",
        "\n",
        "dFrame = pd.read_csv(\"iris.data\", header=None)\n",
        "y = dFrame.iloc[0:100, 4].values\n",
        "y = np.where(y == 'Iris-setosa', -1, 1)\n",
        "X = dFrame.iloc[0:100, [0, 2]].values\n",
        "plot_dataset(X)"
      ],
      "metadata": {
        "colab": {
          "base_uri": "https://localhost:8080/",
          "height": 279
        },
        "id": "-UBsTJk1ANDo",
        "outputId": "12c9031d-db1a-4604-e332-f1bea106fee4"
      },
      "execution_count": 1,
      "outputs": [
        {
          "output_type": "display_data",
          "data": {
            "text/plain": [
              "<Figure size 432x288 with 1 Axes>"
            ],
            "image/png": "[encoded data removed]"
          },
          "metadata": {
            "needs_background": "light"
          }
        }
      ]
    },
  {
   "cell_type": "markdown",
   "metadata": {},
   "source": [
    "## 2. Implementácia doprednej časti perceptrónu\n",
    "\n",
    "V ďalšej časti postupne implementujeme doprednú časť, teda predikciu, perceptrónu. K tomu potrebujete implementovať tri funkcie: konštruktor, `get_sum` a `predict`."
   ]
  },
    {
      "cell_type": "code",
      "source": [
        "class Perceptron:\n",
        "    def __init__(self, input_no, learning_rate):\n",
        "        # TODO: initialize all parameters\n",
        "        pass\n",
        "\n",
        "    def get_sum(self, input_vector):\n",
        "        # TODO: calculate forward pass sum\n",
        "        return 0.0\n",
        "\n",
        "    def predict(self, input_vector):\n",
        "        # TODO: return result of activation 1 for class 1, -1 for class 2\n",
        "        return 0.0\n",
        "\n",
        "    def fit(self, X, y, epochs=10):\n",
        "        # TODO: train perceptron\n",
        "        pass"
      ],
      "metadata": {
        "id": "7sorJuSxAuxI"
      },
      "execution_count": null,
      "outputs": []
    },
  {
   "cell_type": "markdown",
   "metadata": {},
   "source": [
    "### 2.1. Konštruktor\n",
    "\n",
    "Konštruktor triedy má dva parametre:\n",
    "* `input_no` - celé číslo reprezentujúce počet vstupov do perceptrónu\n",
    "* `learning_rate` - učiaci parameter perceptrónu, vyjadruje mieru učenia z nových dát.\n",
    "\n",
    "Na základe parametrov konštruktora inicializujte potrebné členské premenné perceptrónu."
   ]
  },
  {
   "cell_type": "markdown",
   "metadata": {},
   "source": [
    "### 2.2. `get_sum`\n",
    "\n",
    "Funkcia `get_sum` slúži na výpočet váženej sumy vstupov na základe príslušných váh. Pre jednoduchosť riešenia rovno pripočítame aj prah (bias) perceptrónu. Pre výpočet sumy môžete použiť metódu z knižnice `numpy`. Vstupom do funkcie je vektor vstupov (`input_vector`), ktorý môže reprezentovať jeden vstupný príklad alebo niekoľko vstupných príkladov (ak pracujete v knižnici `numpy`, nie je potrebné zvlásť ošetriť jednotlivé prípady použitia)."
   ]
  },
  {
   "cell_type": "markdown",
   "metadata": {},
   "source": [
    "### 2.3. `predict`\n",
    "\n",
    "Funkcia `predict` vypočíta celkový výstup perceptrónu pre daný vstup (parameter `input_vector`). Funkcia má vrátiť 1 pre vstup, kde vážená suma aj s biasom je minimálne 0 a -1 pre záporné sumy."
   ]
  },
  {
   "cell_type": "markdown",
   "metadata": {},
   "source": [
    "### 2.4. Testovanie\n",
    "\n",
    "Aby ste otestovali riešenie, skúste predikovať výstup pre každý riadok z datasetu a vypíšte výsledok do konzoly - pre jednoduchosť testovania odporúčame, aby ste všetky parametre perceptrónu inicializovali na 0."
   ]
  },
    {
      "cell_type": "code",
      "source": [],
      "metadata": {
        "id": "uz9BtRMBA-kv"
      },
      "execution_count": null,
      "outputs": []
    },
  {
   "cell_type": "markdown",
   "metadata": {},
   "source": [
    "## 3. Trénovanie perceptrónu\n",
    "\n",
    "Posledná chýbajúca metóda triedy `Perceptron` je `fit`, ktorá slúži na trénovanie perceptrónu. V tomto kroku ju naimplementujete pričom použite nasledujúci spôsob aktualizácie váh:\n",
    "\n",
    "$w_{i}(t+1)=w_{i}(t) + x_{i} \\cdot \\gamma \\cdot (\\hat{y} - y)$\n",
    "\n",
    "kde:\n",
    "* $w_{i}(t+1)$ je hodnota váhy $w_{i}$ v čase t+1,\n",
    "* $x_{i}$ je hodnota i-tej vstupnej hodnoty\n",
    "* $\\gamma$ je učiaci parameter\n",
    "* $\\hat{y}$ je očakávaný výstup\n",
    "* $y$ je vypočítaný výstup."
   ]
  },
  {
   "cell_type": "markdown",
   "metadata": {},
   "source": [
    "Funkcia `fit` má tri parametre:\n",
    "* `X` - vstupné príklady (jeden vstup alebo pole vstupov)\n",
    "* `y` - príslušné výstupné príklady (jeden výstup alebo pole výstupov)\n",
    "* `epochs` - počet trénovacích epoch, defaultne 10.\n",
    "\n",
    "Pre pozorovanie vývoja trénovania perceptrónu môžete vypísať počet chybných výstupov pre celý dataset."
   ]
  },
    {
      "cell_type": "code",
      "source": [],
      "metadata": {
        "id": "jtwnzUHbBKIo"
      },
      "execution_count": null,
      "outputs": []
    },
  {
   "cell_type": "markdown",
   "metadata": {},
   "source": [
    "## 4. Testovanie perceptrónu\n",
    "\n",
    "Ak ste úspešne implementovali všetky funkcie, môžete natrénovať perceptrón pomocou dát z datasetu Iris. Dataset je už predspracovaný vo funkcii `main`. Vašou úlohou je vytvoriť nový perceptrón a natrénovať ho na dátach. Pre vizualizáciu úspešnosti trénovania vykreslite rozhodovanie perceptrónu pred a po trénovaní pomocou funkcie `plot_decision_regions`.\n",
    "\n",
    "Ukážkové riešenie cvičenia nájdete na [tejto adrese](sources/lab02/perceptron-solution.py). Aplikáciu pre XOR problém nájdete na [tejto adrese](sources/lab02/perceptron-xor.py)."
   ]
  },
    {
      "cell_type": "code",
      "source": [],
      "metadata": {
        "id": "SF8zJgeyBLMY"
      },
      "execution_count": null,
      "outputs": []
    }
 ],
 "metadata": {
  "kernelspec": {
   "display_name": "Python 3",
   "language": "python",
   "name": "python3"
  },
  "language_info": {
   "codemirror_mode": {
    "name": "ipython",
    "version": 3
   },
   "file_extension": ".py",
   "mimetype": "text/x-python",
   "name": "python",
   "nbconvert_exporter": "python",
   "pygments_lexer": "ipython3",
   "version": "3.7.3"
  }
 },
 "nbformat": 4,
 "nbformat_minor": 2
}
