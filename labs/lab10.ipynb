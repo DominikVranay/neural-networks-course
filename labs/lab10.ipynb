{
 "cells": [
  {
   "cell_type": "markdown",
   "metadata": {},
   "source": [
    "# Lab 2: Deep learning in Keras"
   ]
  },
  {
   "cell_type": "markdown",
   "metadata": {},
   "source": [
    "Na druhom cvičení si vytvoríme našu prvú hlbokú neurónovú sieť pomocou knižnice Keras. Pred tým sa však oboznámime s ďalšími knižnicami, ktoré sa bežne používajú v Pythone pri spracovaní a analýze údajov. Budeme používať každého obľúbený Iris dataset.\n",
    "\n",
    "**Zdroje**\n",
    "\n",
    "[Iris dataset](https://github.com/ianmagyar/dl-course/blob/master/labs/sources/iris.csv)\n",
    "\n",
    "[Dokumentácia Keras - Modely](https://keras.io/models/sequential/)\n",
    "\n",
    "[Dokumentácia Keras - Vrstvy](https://keras.io/layers/core/)"
   ]
  },
  {
   "cell_type": "markdown",
   "metadata": {},
   "source": [
    "## 1. Načítanie datasetu - Pandas\n",
    "\n",
    "Síce v Pythone máme rôzne možnosti pre načítanie datasetov a pre prácu s nimi, veľmi často sa používa knižnica Pandas. Pandas je knižnica pre analýzu údajov s vysokým výkonom a veľkou mierou optimalizácie. Naimportujeme ju už známym spôsobom."
   ]
  },
  {
   "cell_type": "code",
   "execution_count": null,
   "metadata": {
    "collapsed": true
   },
   "outputs": [],
   "source": [
    "import pandas as pd"
   ]
  },
  {
   "cell_type": "markdown",
   "metadata": {},
   "source": [
    "Pandas nám umožňuje načítať dataset priamo zo súboru [CSV](https://en.wikipedia.org/wiki/Comma-separated_values), a očakáva že prvý riadok obsahuje názvy jednotlivých stĺpcov. Knižnica ďalej podporuje typy súborov ako HTML, JSON, HDF5, SQL a ďalšie."
   ]
  },
  {
   "cell_type": "code",
   "execution_count": null,
   "metadata": {
    "collapsed": true
   },
   "outputs": [],
   "source": [
    "# TODO: read dataset from csv file (add path to file)\n",
    "dataset = pd.read_csv('# TODO')\n",
    "print(dataset)"
   ]
  },
  {
   "cell_type": "markdown",
   "metadata": {},
   "source": [
    "Načítaný dataset má typ DataFrame. K ľubovoľným stĺpcom sa dostaneme zadaním názvu stĺpca ako index datasetu. Ak chceme zobraziť viac stĺpcov, index musí byť zoznam s názvami týchto stĺpcov."
   ]
  },
  {
   "cell_type": "code",
   "execution_count": null,
   "metadata": {
    "collapsed": true
   },
   "outputs": [],
   "source": [
    "# TODO: select only column SepalLengthCm\n",
    "print(dataset['# TODO'])\n",
    "\n",
    "# TODO: select columns SepalLengthCm and SepalWidthCm\n",
    "print(dataset['# TODO'])"
   ]
  },
  {
   "cell_type": "markdown",
   "metadata": {},
   "source": [
    "Alternatívne vieme zobraziť stĺpce ako keby boli parametrom objektu dataset, alebo vieme použiť aj poradové číslo stĺpca (znak `:` pred čiarkou vyjadruje všetky riadky)."
   ]
  },
  {
   "cell_type": "code",
   "execution_count": null,
   "metadata": {
    "collapsed": true
   },
   "outputs": [],
   "source": [
    "print(dataset.SepalLengthCm)\n",
    "print(dataset.iloc[:, 0])"
   ]
  },
  {
   "cell_type": "markdown",
   "metadata": {},
   "source": [
    "K riadkom prístupujeme cez číselné indexy, pričom dokopy ich môžeme mať až tri. Prvé číslo vyjadruje poradové číslo prvého riadku, druhé číslo poradové číslo posledného riadku (vľavo uzavretý interval, podľa [pravidiel indexovania v Pythone](https://www.digitalocean.com/community/tutorials/how-to-index-and-slice-strings-in-python-3)), a tretie číslo step. Takto vieme napríklad vypísať každý druhý riadok z intervalu 1-10:"
   ]
  },
  {
   "cell_type": "code",
   "execution_count": null,
   "metadata": {
    "collapsed": true
   },
   "outputs": [],
   "source": [
    "print(dataset[0:10:2])"
   ]
  },
  {
   "cell_type": "markdown",
   "metadata": {},
   "source": [
    "Alternatívne môžete použiť aj `loc` funkciu DataFrame-ov (podľa index atribútu; druhý index vyjadruje uzavretý interval), alebo `iloc` funkciu (podľa poradia; druhý index vyjadruje uzavretý interval)"
   ]
  },
  {
   "cell_type": "code",
   "execution_count": null,
   "metadata": {
    "collapsed": true
   },
   "outputs": [],
   "source": [
    "print(dataset.loc[0:9:2])\n",
    "print(dataset.iloc[0:9:2])"
   ]
  },
  {
   "cell_type": "markdown",
   "metadata": {},
   "source": [
    "Indexovanie riadkov a stĺpcov viete aj kombinovať, na poradí nezáleží:"
   ]
  },
  {
   "cell_type": "code",
   "execution_count": null,
   "metadata": {
    "collapsed": true
   },
   "outputs": [],
   "source": [
    "print(dataset[:10:2]['SepalLengthCm'])\n",
    "print(dataset['SepalLengthCm'][:10:2])"
   ]
  },
  {
   "cell_type": "markdown",
   "metadata": {},
   "source": [
    "Z datasetu viete vybrať iba niektoré riadky aj na základe hodnoty niektorého atribútu použitím `lambda` funkcie. Napríklad, pre všetky riadky, kde hodnota SepalLengthCm je viac ako 5:"
   ]
  },
  {
   "cell_type": "code",
   "execution_count": null,
   "metadata": {
    "collapsed": true
   },
   "outputs": [],
   "source": [
    "print(dataset.loc[lambda df:df.SepalLengthCm > 5, :])"
   ]
  },
  {
   "cell_type": "markdown",
   "metadata": {},
   "source": [
    "Všetky tieto podmnožiny majú typ `DataFrame`. Ak chcete ich použiť ako zoznam, resp. zoznam zoznamov, musíte pridať `values`:"
   ]
  },
  {
   "cell_type": "code",
   "execution_count": null,
   "metadata": {
    "collapsed": true
   },
   "outputs": [],
   "source": [
    "dataset['SepalLengthCm'][:10:].values"
   ]
  },
  {
   "cell_type": "markdown",
   "metadata": {},
   "source": [
    "## 2. Vizualizácia údajov - Seaborn\n",
    "\n",
    "Pred tým, než zadefinujeme našu sieť, potrebujeme získať intuitívne pochopenie datasetu a vzťahov medzi jednotlivými atribútmi a výsledkom klasifikácie. V tomto nám pomôže knižnica Seaborn, ktorá slúži na vizualizáciu údajov a využíva to knižnicu matplotlib."
   ]
  },
  {
   "cell_type": "code",
   "execution_count": null,
   "metadata": {
    "collapsed": true
   },
   "outputs": [],
   "source": [
    "# import all needed libraries\n",
    "import seaborn as sns\n",
    "import matplotlib.pyplot as plt\n",
    "\n",
    "# set plot style\n",
    "sns.set(style=\"ticks\")\n",
    "sns.set_palette(\"husl\")\n",
    "\n",
    "# create plots over all dataset; for subset use iloc indexing\n",
    "sns.pairplot(dataset, hue=\"Species\")\n",
    "\n",
    "# display plots using matplotlib\n",
    "plt.show()"
   ]
  },
  {
   "cell_type": "markdown",
   "metadata": {},
   "source": [
    "## 3. Príprava datasetu\n",
    "\n",
    "Pre trénovanie neurónovej siete potrebujeme vytvoriť trénovaciu a testovaciu množinu. Najprv však musíme rozdeliť vstupy siete (atribúty) od výstupu (výsledok klasifikácie)."
   ]
  },
  {
   "cell_type": "code",
   "execution_count": null,
   "metadata": {
    "collapsed": true
   },
   "outputs": [],
   "source": [
    "# split data into input (X - select the first four columns) and output (y - select last column)\n",
    "X = dataset.iloc[# TODO].values\n",
    "y = dataset.iloc[# TODO].values"
   ]
  },
  {
   "cell_type": "markdown",
   "metadata": {},
   "source": [
    "Pri výstupe však nastáva problém: kým neurónová sieť má na výstupe číselné hodnoty, náš dataset stále obsahuje reťazce ako deskriptory tried. Preto potrebujeme tieto reťazce premeniť na vektorovú reprezentáciu (Iris-setosa -> (1 0 0), atď.). V tomto nám pomôže `LabelEncoder` z knižnice `scikit-learn`."
   ]
  },
  {
   "cell_type": "code",
   "execution_count": null,
   "metadata": {
    "collapsed": true
   },
   "outputs": [],
   "source": [
    "from sklearn.preprocessing import LabelEncoder\n",
    "\n",
    "encoder = LabelEncoder()\n",
    "# transform string labels into number values 0, 1, 2\n",
    "y1 = encoder.fit_transform(y)\n",
    "\n",
    "# transform number values into vector representation\n",
    "Y = pd.get_dummies(y1).values"
   ]
  },
  {
   "cell_type": "markdown",
   "metadata": {},
   "source": [
    "Ďalšou úlohou je rozdelenie množiny na trénovaciu a testovaciu. Na to použijeme ďalšiu funkciu z knižnice `scikit-learn`, a to `train_test_split` ([dokumentácia](https://scikit-learn.org/stable/modules/generated/sklearn.model_selection.train_test_split.html)), ktorá zachová poradie vstupov a výstupov a má tri dôležité parametre:\n",
    "1. zoznam vstupov\n",
    "2. zoznam výstupov\n",
    "3. test_size - veľkosť testovacej množiny medzi 0 a 1 (môžete použiť aj train_size)\n",
    "\n",
    "Pre opakovateľnosť trénovania je odporúčané používať random seed zadaním parametra `random_state`."
   ]
  },
  {
   "cell_type": "code",
   "execution_count": null,
   "metadata": {
    "collapsed": true
   },
   "outputs": [],
   "source": [
    "from sklearn.model_selection import train_test_split\n",
    "\n",
    "X_train, X_test, y_train, y_test = train_test_split(# TODO)"
   ]
  },
  {
   "cell_type": "markdown",
   "metadata": {},
   "source": [
    "## 4. Definícia a trénovanie neurónovej siete - Keras\n",
    "\n",
    "Teraz nám už naozaj nič nebráni definovať našu neurónovú sieť pomocou knižnice Keras. Pre definíciu jednoduchej siete v Kerase potrebujeme tri veci:\n",
    "1. model - v tomto kroku použijeme jednoduchý feed-forward sekvenčný model ([dokumentácia](https://keras.io/models/sequential/))\n",
    "2. vrstvy - použijeme iba fully connected dense vrstvy ([dokumentácia](https://keras.io/layers/core/#dense))\n",
    "3. optimizátor - algoritmus, ktorý nám zadefinuje spôsob trénovania siete; my použijeme optimizátor Adam ([dokumentácia](https://keras.io/optimizers/#adam))\n",
    "\n",
    "Najprv naimportujeme potrebné triedy:"
   ]
  },
  {
   "cell_type": "code",
   "execution_count": null,
   "metadata": {
    "collapsed": true
   },
   "outputs": [],
   "source": [
    "from keras.models import Sequential\n",
    "from keras.layers import Dense\n",
    "from keras.optimizers import Adam"
   ]
  },
  {
   "cell_type": "markdown",
   "metadata": {},
   "source": [
    "Následne vytvoríme model a pridáme doňho vrstvy. Pri definícii vrstiev potrebujeme zadať počet neurónov vo vrstve a aktivačnú funkciu. Špecifická je prvá vrstva v sieti, keďže pre ňu potrebujeme zadefinovať aj počet vstupných neurónov. Počet neurónov v poslednej vrstve má zodpovedať formátu výstupu siete."
   ]
  },
  {
   "cell_type": "code",
   "execution_count": null,
   "metadata": {
    "collapsed": true
   },
   "outputs": [],
   "source": [
    "model = Sequential()\n",
    "\n",
    "model.add(Dense(10,input_shape=(4,),activation='tanh'))\n",
    "# TODO: add dense layer with 8 neurons and tanh activation function\n",
    "model.add()\n",
    "# TODO: add dense layer with 6 neurons and tanh activation function\n",
    "model.add())\n",
    "# TODO: add dense layer with 3 neurons and softmax activation function\n",
    "model.add()"
   ]
  },
  {
   "cell_type": "markdown",
   "metadata": {},
   "source": [
    "Pred trénovaním siete ešte potrebujeme zadefinovať spôsob trénovania cez optimizátor. Urobíme tak zavolaním funkcie `compile` ([dokumentácia](https://keras.io/models/sequential/#compile)) s nasledujúcimi parametrami:\n",
    "* optimizer (optimizátor)\n",
    "* loss function (chybová funkcia)\n",
    "* metrics (metriky) - nie je povinné, slúži iba na vyhodnotenie neurónovej siete"
   ]
  },
  {
   "cell_type": "code",
   "execution_count": null,
   "metadata": {
    "collapsed": true
   },
   "outputs": [],
   "source": [
    "# TODO: add Adam optimizer with a learning rate of 0.04\n",
    "# TODO: add loss function categorical_crossentropy\n",
    "model.compile(# TODO, # TODO,metrics=['accuracy'])"
   ]
  },
  {
   "cell_type": "markdown",
   "metadata": {},
   "source": [
    "Základné informácie o siete ako aj jej topológiu získame pomocou funkcie `summary`."
   ]
  },
  {
   "cell_type": "code",
   "execution_count": null,
   "metadata": {
    "collapsed": true
   },
   "outputs": [],
   "source": [
    "model.summary()"
   ]
  },
  {
   "cell_type": "markdown",
   "metadata": {},
   "source": [
    "Ak sme spokojní so sieťou, môžeme začať ju trénovať pomocou fukcie `fit` ([dokumentácia](https://keras.io/models/sequential/#fit)). V tomto kroku použijeme iba niektoré parametre funkcie:\n",
    "* vstupy - pole s vstupmi z trénovacej množiny\n",
    "* výstupy - pole so správnymi výstupmi z trénovacej množiny\n",
    "* počet epoch - epocha je jedna iterácia nad celou trénovacou množinou\n",
    "\n",
    "Ďalšie často používané parametre:\n",
    "* batch_size - batch slúži na presnejšiu gradient aktualizáciu\n",
    "* verbose - definuje, či chceme zobraziť progress počas trénovania"
   ]
  },
  {
   "cell_type": "code",
   "execution_count": null,
   "metadata": {
    "collapsed": true
   },
   "outputs": [],
   "source": [
    "model.fit(X_train, y_train, epochs=100)"
   ]
  },
  {
   "cell_type": "markdown",
   "metadata": {},
   "source": [
    "Teraz nám neostáva nič iné len vyhodnotiť našu neurónovú sieť. Najprv musíme získať výstupy, ktoré nám generuje neurónová sieť pre vstupy z testovacej množiny ([dokumentácia](https://keras.io/models/sequential/#predict))."
   ]
  },
  {
   "cell_type": "code",
   "execution_count": null,
   "metadata": {
    "collapsed": true
   },
   "outputs": [],
   "source": [
    "y_pred = model.predict(X_test)"
   ]
  },
  {
   "cell_type": "markdown",
   "metadata": {},
   "source": [
    "Ďalej porovnáme ozajstné výstupy s očakávanými. Keďže výstup má vektorovú reprezentáciu, potrebujeme zistiť pozíciu kde sa nachádza najväčšia hodnota vo vektore. V tomto nám pomôže knižnica `numpy`, ktorú sme zatiaľ nepoužili explicitne, ale podporuje všetky už použité knižnice. Jedná sa o efektívne a optimalizované riešenie práce s poľami.\n",
    "\n",
    "Pre vyhodnotenie našej siete použijeme konfúznu maticu."
   ]
  },
  {
   "cell_type": "code",
   "execution_count": null,
   "metadata": {
    "collapsed": true
   },
   "outputs": [],
   "source": [
    "import numpy as np\n",
    "\n",
    "y_test_class = np.argmax(y_test,axis=1)\n",
    "y_pred_class = np.argmax(y_pred,axis=1)\n",
    "\n",
    "from sklearn.metrics import classification_report, confusion_matrix\n",
    "\n",
    "print(classification_report(y_test_class, y_pred_class))\n",
    "print(confusion_matrix(y_test_class, y_pred_class))"
   ]
  }
 ],
 "metadata": {
  "kernelspec": {
   "display_name": "Python 3",
   "language": "python",
   "name": "python3"
  },
  "language_info": {
   "codemirror_mode": {
    "name": "ipython",
    "version": 3
   },
   "file_extension": ".py",
   "mimetype": "text/x-python",
   "name": "python",
   "nbconvert_exporter": "python",
   "pygments_lexer": "ipython3",
   "version": "3.6.5"
  }
 },
 "nbformat": 4,
 "nbformat_minor": 2
}
