{
  "cells": [
    {
      "cell_type": "markdown",
      "metadata": {
        "id": "adfcliHHX0x9"
      },
      "source": [
        "# Cvičenie 8: Autoenkódery"
      ]
    },
    {
      "cell_type": "markdown",
      "metadata": {
        "id": "FT79WT3DX0yC"
      },
      "source": [
        "Na dnešnom cvičení sa budeme zaoberať so špeciálnym prípadom nekontrolovaného učenia, ktorým sú autoenkódery. Autoenkódery sú neurónové siete, ktoré slúžia najmä na kompresiu údajov, avšak oproti tradičným metódam kompresie (RAR, ZIP, atď.) ich nepotrebujete vopred naprogramovať. Ich ďalšou vlastnosťou je, že sú špecificky určené na kompresiu údajov podobných dátam, na ktorých bola sieť natrénovaná. Tým pádom kompresia nie je univerzálne použiteľná, ale na druhej strane je často efektívnejšia, aj keď, podobne ako pri všetkých metódach kompresie, dochádza k strate pri kompresii.\n",
        "\n",
        "Z topologického hľadiska sú autoenkódery zvyčajne symetrické (síce to nie je nevyhnutné, ale v praxi takéto siete sa trénujú jednoduchšie). Cieľom autoenkóderov je kopírovať vstup na výstupe tak, že skryté vrstvy majú menej neurónov ako vstup, resp. výstup. Autoenkódery teda majú dve časti: prvá je enkóder, ktorý skomprimuje údaje, kým druhá časť, teda dekóder ich reprodukuje zo zakódovaného tvaru.\n",
        "\n",
        "![](sources/lab09/9.1-autoencoder.png)"
      ]
    },
    {
      "cell_type": "markdown",
      "metadata": {
        "id": "Nb7fzzpCX0yE"
      },
      "source": [
        "Na dnešnom cvičení implementujeme jeden autoenkóder v PyTorch a vyskúšame jeho funkčnosť. Toto nám umožní ukázať, ako sa definujú siete v PyTorch ktoré potom rozdelíte na dve (alebo viac) časti. Kostru riešenia nájdete [tu](sources/lab08/lab08.py)."
      ]
    },
    {
      "cell_type": "markdown",
      "metadata": {
        "id": "5BeQlGF3X0yF"
      },
      "source": [
        "## 1. Načítanie potrebných knižníc\n",
        "V riešení využijeme už známe knižnice `torch`, `numpy` a `matplotlib`. Ako dataset použijeme MNIST dataset, ktorý obsahuje obrázky rukou písaných číslic. Tento dataset je ďalší štandardný dataset (najmä pre konvolučné siete), takže ho nájdeme v knižnici Torchvision. ktorá je nadstavba PyTorch knižnice pre manupulovanie s datasetmi. Pri prvom spustení kódu sa vám stiahne dataset, preto prvé spustenie môže trvať dlhšie."
      ]
    },
    {
      "cell_type": "code",
      "execution_count": null,
      "metadata": {
        "id": "Sj6xhP40X0yG"
      },
      "outputs": [],
      "source": [
        "import torch\n",
        "import torchvision\n",
        "import matplotlib.pyplot as plt\n",
        "import numpy as np"
      ]
    },
    {
      "cell_type": "markdown",
      "metadata": {
        "id": "RX4ssGu2X0yI"
      },
      "source": [
        "## 2. Vizualizácia výsledkov\n",
        "\n",
        "V kóde máte pripravenú metódu `plot_results`, ktorá pomocou `matplotlib` vizualizuje výstup z jednotlivých častí siete (vstup, enkódovaný obraz, dekódovaný obraz). Metóda ukáže niekoľko (*n*) ukážkových vstupov, ich zakódovaný tvar, a rekonštruovaný obraz."
      ]
    },
    {
      "cell_type": "code",
      "execution_count": null,
      "metadata": {
        "id": "ING04FRlX0yJ"
      },
      "outputs": [],
      "source": [
        "def plot_results(x_test, encoded_imgs, decoded_imgs, n=10):\n",
        "    plt.figure(figsize=(40, 4))\n",
        "    for i in range(n):\n",
        "        # display original\n",
        "        ax = plt.subplot(3, n, i + 1)\n",
        "        plt.imshow(x_test[i])\n",
        "        plt.gray()\n",
        "        ax.get_xaxis().set_visible(False)\n",
        "        ax.get_yaxis().set_visible(False)\n",
        "\n",
        "        # display encoded\n",
        "        ax = plt.subplot(3, n, i + 1 + n)\n",
        "        plt.imshow(encoded_imgs[i].reshape(8, 4))\n",
        "        plt.gray()\n",
        "        ax.get_xaxis().set_visible(False)\n",
        "        ax.get_yaxis().set_visible(False)\n",
        "\n",
        "        # display reconstruction\n",
        "        ax = plt.subplot(3, n, i + 1 + n * 2)\n",
        "        plt.imshow(decoded_imgs[i])\n",
        "        plt.gray()\n",
        "        ax.get_xaxis().set_visible(False)\n",
        "        ax.get_yaxis().set_visible(False)\n",
        "    plt.show()"
      ]
    },
    {
      "cell_type": "markdown",
      "metadata": {
        "id": "shH0SzOyX0yL"
      },
      "source": [
        "## 3. Predspracovanie údajov\n",
        "\n",
        "Keďže dnes nebudeme používať konvolúciu, dataset musíme upraviť tak, aby obrázky boli reprezentované ako jednorozmerné vektory. Originálne MNIST dataset obsahuje obrázky *28x28*, ktoré mi prekonvertujeme na tvar *(1x)784*. Pred tým ale pixely normalizujeme, t.j. pretypujeme ich na torchovský float - pixelové hodnoty od 0 po 255 namapujeme do intervalu 0 až 1.\n",
        "Taktiež si vytvoríme loadery, ktoré nám budú dávkovať dáta v batchoch."
      ]
    },
    {
      "cell_type": "code",
      "execution_count": null,
      "metadata": {
        "id": "nxV8Cq36X0yN"
      },
      "outputs": [],
      "source": [
        "trainset = torchvision.datasets.MNIST('/files/', train=True, download=True, transform=torchvision.transforms.ToTensor())\n",
        "trainloader = torch.utils.data.DataLoader(trainset, batch_size=256, shuffle=True)\n",
        "testset = torchvision.datasets.MNIST('/files/', train=True, download=True, transform=torchvision.transforms.ToTensor())\n",
        "testloader = torch.utils.data.DataLoader(testset, batch_size=256, shuffle=False)"
      ]
    },
    {
      "cell_type": "markdown",
      "metadata": {
        "id": "8buHvYVeX0yO"
      },
      "source": [
        "## 4. Definícia autoenkódera\n",
        "\n",
        "V ďalšom kroku zadefinujeme autoenkóder s jednou skrytou vrstvou (neskôr tento kód môžete opraviť a rozšíriť model o ďalšie vrstvy)."
      ]
    },
    {
      "cell_type": "markdown",
      "metadata": {
        "id": "TgEUsLFBX0yQ"
      },
      "source": [
        "### 4.1. Definícia modelov encoder a decoder\n",
        "\n",
        "V tomto kroku zadefinujeme 2 modely: enkóder a dekóder. Každý bude vytvorený pomocou vlastného sekvenčného modela."
      ]
    },
    {
      "cell_type": "code",
      "execution_count": null,
      "metadata": {
        "id": "WZIIlw8YX0yR"
      },
      "outputs": [],
      "source": [
        "encoder = torch.nn.Sequential(torch.nn.Flatten()) # pridať vrstvy\n",
        "class Decoder(torch.nn.Module):\n",
        "    def __init__(self):\n",
        "        super(Decoder, self).__init__()\n",
        "        self.all = torch.nn.Sequential() # pridať vrstvy\n",
        "        \n",
        "    \n",
        "    def forward(self, x):\n",
        "        x = self.all(x).view(-1, 1, 28, 28)\n",
        "        return x\n",
        "decoder = Decoder()"
      ]
    },
    {
      "cell_type": "markdown",
      "metadata": {
        "id": "tdr1s4ohX0yR"
      },
      "source": [
        "### 4.2. Definícia spojeného modelu\n",
        "Definícia spoločného modelu je menej priamočiara. Keďže sa bude trénovať ako jeden celok a potrebuje mať spoločné váhy s už vytvorenými modelami, vytvoríme ho pomocou vlastnej triedy, ktorá bude mať encoder a decoder model ako parametre."
      ]
    },
    {
      "cell_type": "code",
      "execution_count": null,
      "metadata": {
        "id": "5MI1_IFKX0yR"
      },
      "outputs": [],
      "source": [
        "class AutoEncoder(torch.nn.Module):\n",
        "    def __init__(self, encoder, decoder):\n",
        "        super(AutoEncoder, self).__init__()\n",
        "        self.encoder = encoder\n",
        "        self.decoder = decoder\n",
        "        \n",
        "    \n",
        "    def forward(self, x):\n",
        "        x = self.encoder(x)\n",
        "        x = self.decoder(x)\n",
        "        return x\n",
        "\n",
        "model = AutoEncoder(encoder, decoder)"
      ]
    },
    {
      "cell_type": "markdown",
      "metadata": {
        "id": "x42QHOo-X0yS"
      },
      "source": [
        "### 4.3. Trénovanie autoenkódera\n",
        "\n",
        "Neostáva nám nič iné, len natrénovať našu sieť. Pridajte chýbajúce parametre do volaní funkcií nasledovne:\n",
        "* optimizer - napr. adam\n",
        "* criterion - napr. binary crossentropy\n",
        "* input - vstup autoenkódera (28x28)\n",
        "* output - očakávaný výstup autoenkódera (28x28)"
      ]
    },
    {
      "cell_type": "code",
      "execution_count": null,
      "metadata": {
        "id": "uJn0rnclX0yS"
      },
      "outputs": [],
      "source": [
        "optimizer = None\n",
        "criterion = None\n",
        "for epoch in range(100):\n",
        "    ls = []\n",
        "    for inputs, _ in trainloader:\n",
        "        optimizer.zero_grad()\n",
        "        preds = model(inputs)\n",
        "        loss = criterion(preds, inputs)\n",
        "        loss.backward()\n",
        "        optimizer.step()\n",
        "        ls.append(loss.detach().item())\n",
        "    print(\"Loss:\", sum(ls)/len(ls))"
      ]
    },
    {
      "cell_type": "markdown",
      "metadata": {
        "id": "HThEOPOnX0yS"
      },
      "source": [
        "### 4.4. Testovanie autoenkódera\n",
        "\n",
        "Ak už máme autoenkóder natrénovaný, môžeme vizualizovať jeho funkčnosť. Zavoláme funkciu `predict` nad testovacou množinou. Keďže chceme vizualizovať vstup, zakódovanú reprezentáciu, aj výstup autoenkódera, funkciu potrebujeme zavolať aj pre enkóder aj pre samotný autoenkóder. Ak chcete testovať zvlášť aj dekóder, upravte kód podľa potreby."
      ]
    },
    {
      "cell_type": "code",
      "execution_count": null,
      "metadata": {
        "id": "HqgTyegsX0yS"
      },
      "outputs": [],
      "source": [
        "inputs, _ = next(testloader)\n",
        "encoded_imgs = encoder(inputs)\n",
        "decoded_imgs = decoder(encoded_imgs)\n",
        "#decoded_imgs = autoencoder.predict(x_test)\n",
        "\n",
        "plot_results(inputs, encoded_imgs, decoded_imgs)"
      ]
    },
    {
      "cell_type": "markdown",
      "metadata": {
        "id": "FCtI7wvVX0yT"
      },
      "source": [
        "Zobrazia sa nám tri riadky obrázkov, kde prvý riadok je vstup, druhý je zakódovaný tvar, a posledný riadok obsahuje rekonštruované obrázky, t.j. výstup autoenkódera, napr. pri nastaveniach z bodu 4.3:\n",
        "\n",
        "![](sources/lab09/9.2-shallow-results.jpg)"
      ]
    },
    {
      "cell_type": "markdown",
      "source": [
        "Decoder sa dá používať aj ako generátor nových dát. To môžeme urobiť pomocou generovania náhodného listu čísel, veľého ako encodovaný obrázok:"
      ],
      "metadata": {
        "id": "8qdd3Nf2Bpx8"
      }
    },
    {
      "cell_type": "code",
      "source": [
        "def plot_results(encoded_imgs, decoded_imgs, n=10):\n",
        "    plt.figure(figsize=(40, 4))\n",
        "    for i in range(n):\n",
        "        # display encoded\n",
        "        ax = plt.subplot(3, n, i + 1)\n",
        "        plt.imshow(encoded_imgs[i].reshape(8, 4))\n",
        "        plt.gray()\n",
        "        ax.get_xaxis().set_visible(False)\n",
        "        ax.get_yaxis().set_visible(False)\n",
        "\n",
        "        # display reconstruction\n",
        "        ax = plt.subplot(3, n, i + 1 + n)\n",
        "        plt.imshow(decoded_imgs[i])\n",
        "        plt.gray()\n",
        "        ax.get_xaxis().set_visible(False)\n",
        "        ax.get_yaxis().set_visible(False)\n",
        "    plt.show()\n",
        "inpu = np.random.random((300, 32))\n",
        "decoded_imgs = decoder(inpu)\n",
        "plot_results(inpu, decoded_imgs)"
      ],
      "metadata": {
        "id": "zUo6taQL9UYQ"
      },
      "execution_count": null,
      "outputs": []
    },
    {
      "cell_type": "markdown",
      "metadata": {
        "id": "9kTSiuaoX0yT"
      },
      "source": [
        "Ukážkové riešenie nájdete [na tomto odkaze](sources/lab09/lab09-autoencoder-solution.py)."
      ]
    }
  ],
  "metadata": {
    "kernelspec": {
      "display_name": "Python 3",
      "language": "python",
      "name": "python3"
    },
    "language_info": {
      "codemirror_mode": {
        "name": "ipython",
        "version": 3
      },
      "file_extension": ".py",
      "mimetype": "text/x-python",
      "name": "python",
      "nbconvert_exporter": "python",
      "pygments_lexer": "ipython3",
      "version": "3.7.3"
    },
    "colab": {
      "provenance": []
    }
  },
  "nbformat": 4,
  "nbformat_minor": 0
}
