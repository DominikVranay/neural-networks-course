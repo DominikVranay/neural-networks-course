{
  "cells": [
    {
      "cell_type": "markdown",
      "metadata": {
        "id": "48ncBGDncQTS"
      },
      "source": [
        "# Cvičenie 6: Neurónové siete v PyTorch"
      ]
    },
    {
      "cell_type": "markdown",
      "metadata": {
        "id": "MhwkUe84cQTY"
      },
      "source": [
        "Minulý týždeň ste už videli príklad implementácie neurónovej siete pomocou knižnice PyTorch. Na dnešnom cvičení sa pozrieme na to, ako presne funguje Autograd v PyTorch. Aby ste úspešne zvládli cvičenie, potrebujete mať nainštalovanú knižnicu PyTorch."
      ]
    },
    {
      "cell_type": "markdown",
      "metadata": {
        "id": "TYp2Fmp5cQTZ"
      },
      "source": [
        "## 1. Výpočty v PyTorch"
      ]
    },
    {
      "cell_type": "markdown",
      "metadata": {
        "id": "64nx28xYcQTa"
      },
      "source": [
        "Na začiatok zadefinujeme jednoduchú operáciu sčítania pomocou PyTorch:\n",
        "\n",
        "![](sources/lab06/6.1-addition.png)"
      ]
    },
    {
      "cell_type": "code",
      "execution_count": null,
      "metadata": {
        "id": "Sd2NKhACcQTb"
      },
      "outputs": [],
      "source": [
        "import torch\n",
        "\n",
        "# create the nodes in the graph, and initialize values\n",
        "a = torch.tensor(13)\n",
        "b = torch.tensor(37)\n",
        "\n",
        "# add together the two values\n",
        "c = torch.add(a, b)\n",
        "print(c)"
      ]
    },
    {
      "cell_type": "markdown",
      "metadata": {
        "id": "xZxT1HZTcQTc"
      },
      "source": [
        "Výstup výpočtu je tensor s hodnotou 50: `tensor(50)`. PyTorch podporuje tensory s hodnotami (môžu byť konštanty alebo premenné) a s výpočtami.\n",
        "\n",
        "Na základe predošlého príkladu vytvorte viac zložitý graf:\n",
        "\n",
        "![](sources/lab06/6.2-complicated-graph.png)"
      ]
    },
    {
      "cell_type": "code",
      "execution_count": null,
      "metadata": {
        "id": "Rw4B1Op2cQTd"
      },
      "outputs": [],
      "source": [
        "# create the nodes in the graph, and initialize values\n",
        "a = torch.tensor(2.5)\n",
        "b = torch.tensor(6.5)\n",
        "\n",
        "c = None\n",
        "d = None\n",
        "e = None\n",
        "\n",
        "print(e)"
      ]
    },
    {
      "cell_type": "markdown",
      "metadata": {
        "id": "nWuLLP3_cQTe"
      },
      "source": [
        "## 2. Neurón v PyTorch"
      ]
    },
    {
      "cell_type": "markdown",
      "metadata": {
        "id": "HmqRfphWcQTe"
      },
      "source": [
        "Neurón predstavuje základný výpočtový prvok neurónových sietí, ktorý pozostáva zo vstupov, synaptických váh, váženej sumy, aktivačnej funkcie a výstupnej funckie. V tomto kroku implementujeme jednoduchý neurón pomocou základných metód PyTorch, aby ste videli, ako tieto výpočty fungujú na úrovni s nižšou abstrakciou.\n",
        "\n",
        "![](sources/lab06/6.3-perceptron.png)"
      ]
    },
    {
      "cell_type": "code",
      "execution_count": null,
      "metadata": {
        "id": "JooxKT32cQTf"
      },
      "outputs": [],
      "source": [
        "# simple perceptron with two input nodes\n",
        "def my_neuron(x):\n",
        "    # define some arbitrary weights for the two input values\n",
        "    W = torch.tensor([[3, -2]], dtype=torch.float32)\n",
        "\n",
        "    # define the bias of the neuron\n",
        "    b = 1\n",
        "    \n",
        "    # compute weighted sum (hint: check out torch.matmul)\n",
        "    z = None\n",
        "\n",
        "    # apply the sigmoid activation function (hint: use torch.sigmoid)\n",
        "    output = None\n",
        "\n",
        "    return output\n",
        "\n",
        "sample_input = torch.tensor([[-1, 2]], dtype=torch.float32)\n",
        "\n",
        "result = my_neuron(sample_input)\n",
        "print(result)"
      ]
    },
    {
      "cell_type": "markdown",
      "metadata": {
        "id": "aLkYlsencQTg"
      },
      "source": [
        "## 3. Plne prepojené vrstvy v PyTorch"
      ]
    },
    {
      "cell_type": "markdown",
      "metadata": {
        "id": "sc1y5HmNcQTh"
      },
      "source": [
        "Ak chceme vytvoriť neurónovú sieť, jednoduché neuróny musíme usporiadať do tzv. vrstiev. Oproti predošlému príkladu musíme tiež upraviť váhy tak, aby boli aktualizovateľné. V neurónových sieťach sa najčastejšie používajú plne prepojené vrstvy (*fully connected* alebo *linear*)."
      ]
    },
    {
      "cell_type": "code",
      "execution_count": null,
      "metadata": {
        "id": "FrYEE6ZacQTh"
      },
      "outputs": [],
      "source": [
        "# x: input values\n",
        "# n_in: number of input nodes\n",
        "# n_out: number of output nodes\n",
        "def my_dense_layer(x, n_in, n_out):\n",
        "    # define variable weights as a matrix and biases\n",
        "    # initialize weights for one\n",
        "    # initialize biases for zero\n",
        "    W = torch.ones((n_in, n_out), requires_grad=True)\n",
        "    b = None\n",
        "    \n",
        "    # compute weighted sum (hint: check out torch.matmul)\n",
        "    z = None\n",
        "\n",
        "    # apply the sigmoid activation function (hint: use torch.sigmoid)\n",
        "    output = None\n",
        "\n",
        "    return output"
      ]
    },
    {
      "cell_type": "markdown",
      "metadata": {
        "id": "zCZIq6ujcQTh"
      },
      "source": [
        "Ako aj pred tým, naše riešenie vieme otestovať zadaním ľubovoľných hodnôt (s dodržaním počtu vstupných a výstupných neurónov)."
      ]
    },
    {
      "cell_type": "code",
      "execution_count": null,
      "metadata": {
        "id": "VgoHyAY_cQTi"
      },
      "outputs": [],
      "source": [
        "sample_input = torch.tensor([[1, 2.]])\n",
        "print(my_dense_layer(sample_input, n_in=2, n_out=3))"
      ]
    },
    {
      "cell_type": "markdown",
      "metadata": {
        "id": "mgLNppsEcQTi"
      },
      "source": [
        "Podobne by sme postupovali pri definícii neurónovej siete s viacerými vrstvami, vidíme ale, že takýto zápis je zdĺhavý a neprehľadný. Práve preto bola vyvinutá knižnica `torch.nn`, ktorá obsahuje už naprogramované základné vrstvy pomocou jazyka C++."
      ]
    },
    {
      "cell_type": "markdown",
      "metadata": {
        "id": "gD5E48A0cQTj"
      },
      "source": [
        "## 4. Definícia a trénovanie neurónovej siete pomocou torch.nn"
      ]
    },
    {
      "cell_type": "markdown",
      "metadata": {
        "id": "WwMrPYMdcQTk"
      },
      "source": [
        "Pre dnešnú ukážku môžete používať ľubuvoľný dataset, odporúčame ale použiť niektorý dataset pre klasifikáciu z [tohto repozitára](https://archive.ics.uci.edu/ml/datasets.php).\n",
        "\n",
        "Ako sme už videli minulý týždeň, v PyTorch potrebujeme vytvoriť sekvenčný model priamo s vrstvami, následne vytvoriť optimizátor a nakoniec natrénovať. Dnes ukážeme trocha iný prístup, kde najprv zadefinujete triedu pre model s vrstvami a prepojíte ich vo forward funkcii. Oba prístupy sú rovnocenné a môžete ich používať ľubovoľne. Najčastejšie sa používa vlastná trieda modelu, keďže je oveľa jednoduchšie manipulovať výstup vrstiev a vytvoriť viac vetiev."
      ]
    },
    {
      "cell_type": "code",
      "execution_count": 11,
      "metadata": {
        "colab": {
          "base_uri": "https://localhost:8080/"
        },
        "id": "o5Kqnd6gcQTk",
        "outputId": "916e0834-df35-4e33-bad3-fe69db307c1b"
      },
      "outputs": [
        {
          "output_type": "stream",
          "name": "stdout",
          "text": [
            "Model(\n",
            "  (linear1): Linear(in_features=200, out_features=512, bias=True)\n",
            "  (relu): ReLU(inplace=True)\n",
            "  (linear2): Linear(in_features=512, out_features=1024, bias=True)\n",
            "  (sigmoid): Sigmoid()\n",
            ")\n"
          ]
        }
      ],
      "source": [
        "from torch import nn\n",
        "\n",
        "class Model(nn.Module):\n",
        "    def __init__(self):\n",
        "        super(Model, self).__init__()\n",
        "        self.linear1 = nn.Linear(4, 10)\n",
        "        self.relu = nn.ReLU(inplace=True)\n",
        "        self.linear2 = nn.Linear(10, 3)\n",
        "        self.sigmoid = nn.Sigmoid()\n",
        "        \n",
        "    \n",
        "    def forward(self, x):\n",
        "        x = self.linear1(x)\n",
        "        x = self.relu(x)\n",
        "        x = self.linear2(x)\n",
        "        x = self.sigmoid(x)\n",
        "        return x\n",
        "\n",
        "model = Model()\n",
        "print(model)"
      ]
    },
    {
      "cell_type": "markdown",
      "metadata": {
        "id": "pwFkwnh1cQTl"
      },
      "source": [
        "Užitočná metóda je metóda `print`, ktorá vám vypíše informácie o definovanej sieti."
      ]
    },
    {
      "cell_type": "markdown",
      "metadata": {
        "id": "aOPgZNLjcQTm"
      },
      "source": [
        "Ak ste spokojní s topológiou siete, môžete vytvorit optimalizator a loss funkciu."
      ]
    },
    {
      "cell_type": "code",
      "execution_count": null,
      "metadata": {
        "id": "LWd0hRxPcQTn"
      },
      "outputs": [],
      "source": [
        "optimizer = torch.optim.Adam(model.parameters(), lr=0.001)\n",
        "criterion = torch.nn.CrossEntropyLoss()"
      ]
    },
    {
      "cell_type": "markdown",
      "metadata": {
        "id": "XV--u8gacQTn"
      },
      "source": [
        "Ako Dataset si zvolíme Iris z minulých cvičené a použijeme už známy training loop"
      ]
    },
    {
      "cell_type": "code",
      "source": [
        "import pandas as pd\n",
        "dataset = pd.read_csv('iris.csv')\n",
        "X = dataset.iloc[:, :4].values\n",
        "y = dataset.iloc[:, -1].values\n",
        "\n",
        "from sklearn.preprocessing import LabelEncoder\n",
        "\n",
        "encoder = LabelEncoder()\n",
        "# transform string labels into number values 0, 1, 2\n",
        "Y = encoder.fit_transform(y)\n",
        "\n",
        "from sklearn.model_selection import train_test_split\n",
        "\n",
        "X_train, X_test, y_train, y_test = train_test_split(X, Y, test_size=0.2, random_state=0)\n",
        "X_train = torch.Tensor(X_train)\n",
        "X_test = torch.Tensor(X_test)\n",
        "y_train = torch.Tensor(y_train)"
      ],
      "metadata": {
        "id": "J57K84ZfdwjZ"
      },
      "execution_count": null,
      "outputs": []
    },
    {
      "cell_type": "code",
      "source": [
        "for epoch in range(100):\n",
        "    optimizer.zero_grad()\n",
        "    preds = model(X_train)\n",
        "    loss = criterion(preds, y_train)\n",
        "    loss.backward()\n",
        "    optimizer.step()\n",
        "    print(\"Loss:\", loss.detach().item(), \"accuracy:\", (y_train== preds.argmax(-1)).sum().item()/len(y_train))"
      ],
      "metadata": {
        "id": "eymz2bpJm_UU"
      },
      "execution_count": null,
      "outputs": []
    },
    {
      "cell_type": "markdown",
      "metadata": {
        "id": "tsl19B9scQTn"
      },
      "source": [
        "Ak chcete natrénovanú sieť používať, potrebujete zavolať model:"
      ]
    },
    {
      "cell_type": "code",
      "execution_count": null,
      "metadata": {
        "id": "m_XP9BOacQTo"
      },
      "outputs": [],
      "source": [
        "y_pred = model(X_test)"
      ]
    },
    {
      "cell_type": "markdown",
      "metadata": {
        "id": "IF6eTaoocQTo"
      },
      "source": [
        "**Poznámka**: ukážkové riešenie úloh s PyTorch nájdete [tu](sources/lab06/lab6-tensorflow-solution.py))."
      ]
    }
  ],
  "metadata": {
    "kernelspec": {
      "display_name": "Python 3",
      "language": "python",
      "name": "python3"
    },
    "language_info": {
      "codemirror_mode": {
        "name": "ipython",
        "version": 3
      },
      "file_extension": ".py",
      "mimetype": "text/x-python",
      "name": "python",
      "nbconvert_exporter": "python",
      "pygments_lexer": "ipython3",
      "version": "3.7.3"
    },
    "colab": {
      "provenance": []
    }
  },
  "nbformat": 4,
  "nbformat_minor": 0
}
