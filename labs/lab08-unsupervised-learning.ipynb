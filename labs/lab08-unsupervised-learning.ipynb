{
 "cells": [
  {
   "cell_type": "markdown",
   "metadata": {},
   "source": [
    "# Cvičenie 8: Nekontrolované učenie"
   ]
  },
  {
   "cell_type": "markdown",
   "metadata": {},
   "source": [
    "Doteraz ste používali iba kontrolované učenie, čo znamená, že učiaci sa model mal k dispozícii nielen vstupné údaje ale aj očakávané výstupné údaje a počas trénovania dostával informáciu o tom, či sa zlepšuje alebo nie. Aj keď kontrolované učenie je dnes najpoužívanejšou metódou vo vývoji nových UI modelov, má svoje nevýhody, a to hlavne to, že veľmi často umelú inteligenciu chceme použiť na riešenie problémov v ktorých nepoznáme očakávané výstupy.\n",
    "\n",
    "Na dnešnom cvičení sa pozrieme na to, ako funguje klasifikácia v nekontrolovanom učení. Tento problém súvisí aj s najčastejším príkladom použitia nekontrolovaného učenia, a to zhlukovaním (*clustering*). To znamená, že sa nesnažíme rozdeliť príznakový priestor pomocou priamok a kriviek a takto oddeliť od seba jednotlivé triedy, ale na základe podobnosti údajov ich zaradíme do menších skupín (zhlukov) a predikciu vykonáme pomocou určenia podobnosti vstupných údajov k údajom v jednotlivých zhlukoch."
   ]
  },
  {
   "cell_type": "markdown",
   "metadata": {},
   "source": [
    "## 1. Zhlukovanie pomocou *k-means*\n",
    "\n",
    "Základný algoritmus pre clustering pomocou nekontrolovaného učenia je algoritmus *k-means*, ktorý vytvorí *k* zhlukov z daného datasetu iteratívnym procesom. Postup algoritmu môžeme popísať nasledovne:\n",
    "\n",
    "1. z datasetu sa náhodne vyberie *k* prvkov (počet špecifikuje používateľ), ktoré sa stanú stredom jednotlivých zhlukov\n",
    "2. na základe jeho vzdialenosti od centier zhlukov sa každý príklad z datasetu pridelí do niektorého zo zhlukov\n",
    "3. vypočítajú sa nové stredy zhlukov ako priemerná pozícia všetkých príkladov v danom zhluku\n",
    "4. kroky 2 a 3 sa opakujú až dovtedy, kým nedôjde ku konvergencii.\n",
    "\n",
    "Výstupom učenia je klasifikátor, ktorý príklad zoradí do niektorého zhluku na základe jeho vzdialenosti od stredu zhluku. Výstupom je takisto informácia o zhlukoch: kde sa nachádza ich centrum. Keďže výber v prvom kroku je náhodný, viacnásobné spustenie trénovania nám dáva rozlišné výsledky. Algoritmus teraz implementujeme pre dataset Iris, aby sme porovnali jeho úspešnosť s kontrolovaným učením. Celý kód nájdete [tu](sources/lab08/lab8-k-means.py) alebo ho môžete postupne implementovať."
   ]
  },
  {
   "cell_type": "markdown",
   "metadata": {},
   "source": [
    "## 1.1. Načítanie datasetu\n",
    "\n",
    "Dnes použijeme iný spôsob na načítanie datasetu. Keďže Iris je štandardný dataset, ktorý sa používa veľmi často, obsahujú ho viaceré knižnice pre strojové učenie. My ho načítame z knižnice `sklearn` (scikit-learn), ktorú importneme spolu s ďalšími modulmi:"
   ]
  },
  {
   "cell_type": "code",
   "execution_count": null,
   "metadata": {},
   "outputs": [],
   "source": [
    "from sklearn import datasets\n",
    "from sklearn.cluster import KMeans\n",
    "import matplotlib.pyplot as plt"
   ]
  },
  {
   "cell_type": "markdown",
   "metadata": {},
   "source": [
    "`KMeans` je náš algoritmus implementovaný v knižnici, a `matplotlib.pyplot` neskôr použijeme na vizualizáciu datasetu, aby sme vedeli porovnať očakávané hodnoty s výsledkami predikcie.\n",
    "\n",
    "Samotný dataset Iris načítame príkazom"
   ]
  },
  {
   "cell_type": "code",
   "execution_count": null,
   "metadata": {},
   "outputs": [],
   "source": [
    "iris_df = datasets.load_iris()"
   ]
  },
  {
   "cell_type": "markdown",
   "metadata": {},
   "source": [
    "Na rozdiel od `pandas`, ktorý celý dataset načíta do jedného `DataFrame`, v `scikit-learn` máme dataset rozdelený na dve časti: vstupné údaje a očakávané výstupné údaje. Vstupné údaje nájdeme pod premennou `data`, výstupné pod `target`:"
   ]
  },
  {
   "cell_type": "code",
   "execution_count": null,
   "metadata": {},
   "outputs": [],
   "source": [
    "input_data = iris_df.data\n",
    "selected_data = iris_df.data[:, [0, 2]]\n",
    "\n",
    "output_data = iris_df.target"
   ]
  },
  {
   "cell_type": "markdown",
   "metadata": {},
   "source": [
    "`selected_data` sme vytvorili pre pokus, kde na trénovanie použijeme iba dva príznaky: *sepal length* a *sepal width*, ktoré načítame do ďalších premenných pre neskoršie použitie:"
   ]
  },
  {
   "cell_type": "code",
   "execution_count": null,
   "metadata": {},
   "outputs": [],
   "source": [
    "s_length = iris_df.data[:, 0]  # sepal length\n",
    "s_width = iris_df.data[:, 2]  # sepal width"
   ]
  },
  {
   "cell_type": "markdown",
   "metadata": {},
   "source": [
    "## 1.2. Trénovanie modelu\n",
    "\n",
    "Trénovanie *k-means* je veľmi jednoduchý v knižnici `scikit-learn`, skladá sa len z dvoch krokov. Najprv potrebujeme vytvoriť model a špecifikovať počet hľadaných zhlukov, a následne natrénujeme model pomocou nejakých dát (metóda `fit`):"
   ]
  },
  {
   "cell_type": "code",
   "execution_count": null,
   "metadata": {},
   "outputs": [],
   "source": [
    "model = KMeans(n_clusters=3)\n",
    "\n",
    "model.fit(input_data)"
   ]
  },
  {
   "cell_type": "markdown",
   "metadata": {},
   "source": [
    "Ako môžete vidieť, model natrénujeme na celom datasete (použijeme všetky príznaky) a v porovnaní s kontrolovaným učením nešpecifikujeme očakávané výstupné hodnoty pri trénovaní."
   ]
  },
  {
   "cell_type": "markdown",
   "metadata": {},
   "source": [
    "## 1.3. Testovanie modelu\n",
    "\n",
    "Presnosť modelu otestujeme vizualizáciou aby sme jednoznačne videli rozdiely medzi očakávanými výstupmi a výstupmi modelu. Keďže príznakový priestor má teraz štyri dimenzie, na vizualizáciu použijeme iba pred tým vybrané príznaky *sepal length* a *spela width* (výstup ale nemeníme). Vo vizualizácii príklady budú reprezentované ako body v dvojdimenzionálnom priestore a ich farba bude reprezentovať triedu. Na priradenie farby ku triede definujeme pomocnú funkciu `color_code`:"
   ]
  },
  {
   "cell_type": "code",
   "execution_count": null,
   "metadata": {},
   "outputs": [],
   "source": [
    "def color_code(targets):\n",
    "    code = {\n",
    "        0: 'red',\n",
    "        1: 'green',\n",
    "        2: 'blue'\n",
    "    }\n",
    "\n",
    "    return [code[target] for target in targets]"
   ]
  },
  {
   "cell_type": "code",
   "execution_count": null,
   "metadata": {},
   "outputs": [],
   "source": [
    "all_predictions = model.predict(input_data)\n",
    "\n",
    "fig, axs = plt.subplots(1, 2, figsize=(18, 9), sharey=True)\n",
    "axs[0].scatter(s_length, s_width, c=color_code(iris_df.target))\n",
    "axs[0].set_xlabel(\"sepal length\")\n",
    "axs[0].set_ylabel(\"sepal width\")\n",
    "\n",
    "axs[1].scatter(s_length, s_width, c=color_code(all_predictions))\n",
    "axs[1].set_xlabel(\"sepal length\")\n",
    "axs[1].set_ylabel(\"sepal width\")\n",
    "\n",
    "plt.show()"
   ]
  },
  {
   "cell_type": "markdown",
   "metadata": {},
   "source": [
    "Výstupom môže byť takýto graf, kde vľavo vidíte reálny dataset a vpravo výstup zhlukovania:\n",
    "\n",
    "![Výsledky k-means](sources/lab08/8.1-k-means-results.png)\n",
    "\n",
    "Z grafu je jasné, že klasifikácia nie je úplne presná, a zároveň aj jednotlivé triedy sú pomiešané, čo je spôsobené náhodným výberom prvých jedincov do daných zhlukov. Tento jav môžete spozorovať ak kód spustíte niekoľkokrát."
   ]
  },
  {
   "cell_type": "markdown",
   "metadata": {},
   "source": [
    "## 1.4. Oprava datasetu\n",
    "\n",
    "V tomto kroku vašou úlohou je zistiť, ako ovplyvní výsledok ak použijete iba dva príznaky na trénovanie a predikciu. Môžete použiť ľubovoľné dva príznaky, alebo už vybrané príznaky *sepal length* a *sepal width*."
   ]
  },
  {
   "cell_type": "markdown",
   "metadata": {},
   "source": [
    "## 2. Kohonenove siete\n",
    "\n",
    "Kohonenove siete sú modelom nekontrolovaného učenia v neurónových sieťach, tzv. samoorganizujúce sa mapy (self-organizing maps, SOM). Pri trénovaní sa použije paradigma konkurenčného učenia, avšak s viacerými víťazmi, to znamená, že naraz sa aktualizujú váhy viacerých neurónov.\n",
    "\n",
    "Základom Kohonenovej siete je Kohonenova vrstva, v ktorej sú neuróny usporiadané do geometrického útvaru. Takéto usporiadanie je dôležité kvôli tomu, aby sme vedeli identifikovať susedov neurónov. Táto susednosť potom určuje spôsob aktualizácie váh - susedné neuróny budú mať podobné hodnoty váh. Mieru susednosti určuje funkcia susednosti $\\Lambda_{ij}$.\n",
    "\n",
    "Zmena váhy sa vypočítava ako:\n",
    "\n",
    "$\\Delta w_{ij}(t) = - \\gamma \\Lambda_{ij}(w_{ij}(t) - x_{j}^{k}(t))$\n",
    "\n",
    "A aktualizovaná hodnota váhy:\n",
    "\n",
    "$w_{ij}(t + 1) = w_{ij}(t) + \\gamma \\Lambda_{ij}(x_{j}^{k}(t) - w_{ij}(t))$\n",
    "\n",
    "Proces učenia môžeme vizualizovať nasledovne:\n",
    "\n",
    "![Kohonen process](https://upload.wikimedia.org/wikipedia/commons/3/35/TrainSOM.gif)"
   ]
  }
 ],
 "metadata": {
  "kernelspec": {
   "display_name": "Python 3",
   "language": "python",
   "name": "python3"
  },
  "language_info": {
   "codemirror_mode": {
    "name": "ipython",
    "version": 3
   },
   "file_extension": ".py",
   "mimetype": "text/x-python",
   "name": "python",
   "nbconvert_exporter": "python",
   "pygments_lexer": "ipython3",
   "version": "3.7.3"
  }
 },
 "nbformat": 4,
 "nbformat_minor": 2
}
